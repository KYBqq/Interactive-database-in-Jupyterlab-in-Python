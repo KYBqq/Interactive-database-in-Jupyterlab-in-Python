{
 "cells": [
  {
   "cell_type": "markdown",
   "id": "ba756e07-95d3-45a8-97be-242621d28d82",
   "metadata": {},
   "source": [
    "Есть два набора данных (во вложении): визиты пользователей на сервис и данные по покупкам. У каждого визита есть источник, а также устройство, с которого заходил пользователь.\n",
    "Обозначения в файлах:\n",
    "```\n",
    "start_dt — дата старта визита,\n",
    "start_ts — дата и время старта визита,\n",
    "end_ts — дата окончания визита,\n",
    "uid — идентификатор пользователя,\n",
    "source_id — id источника визита,\n",
    "device — устройство,\n",
    "buy_ts — дата и время покупки,\n",
    "revenue — доход в y.e.\n",
    "```"
   ]
  },
  {
   "cell_type": "code",
   "execution_count": 11,
   "id": "fa174204-df98-498a-abe7-5ef6c8d31897",
   "metadata": {},
   "outputs": [
    {
     "name": "stdout",
     "output_type": "stream",
     "text": [
      "База данных готова!\n",
      "Таблица visits: 720679 записей\n",
      "Таблица purchases: 75716 записей\n"
     ]
    }
   ],
   "source": [
    "import sqlite3\n",
    "import pandas as pd\n",
    "\n",
    "# Создаем подключение к SQLite базе данных\n",
    "conn = sqlite3.connect(':memory:')\n",
    "\n",
    "# Путь к файлам\n",
    "data_path = r\"T:\\jupyterData\\SQL-Cohort-marketing-analysis\\Источники переделанные в Excel\"\n",
    "\n",
    "# Загружаем данные из Excel файлов\n",
    "purchases_df = pd.read_excel(f\"{data_path}/purchases.xlsx\")\n",
    "visits_df = pd.read_excel(f\"{data_path}/visits.xlsx\")\n",
    "\n",
    "# Загружаем данные в SQLite\n",
    "visits_df.to_sql('visits', conn, if_exists='replace', index=False)\n",
    "purchases_df.to_sql('purchases', conn, if_exists='replace', index=False)\n",
    "\n",
    "# Функция для выполнения SQL запросов\n",
    "def run_sql(query):\n",
    "    return pd.read_sql_query(query, conn)\n",
    "\n",
    "print(\"База данных готова!\")\n",
    "print(f\"Таблица visits: {len(visits_df)} записей\")\n",
    "print(f\"Таблица purchases: {len(purchases_df)} записей\")"
   ]
  },
  {
   "cell_type": "code",
   "execution_count": null,
   "id": "fd1cad1b-dc02-45c1-b992-31ff63cbcec8",
   "metadata": {},
   "outputs": [],
   "source": [
    "#Пример запроса:\n",
    "run_sql(\"SELECT * FROM visits s INNER JOIN purchases p ON s.uid = p.uid\")"
   ]
  }
 ],
 "metadata": {
  "kernelspec": {
   "display_name": "Python 3 (ipykernel)",
   "language": "python",
   "name": "python3"
  },
  "language_info": {
   "codemirror_mode": {
    "name": "ipython",
    "version": 3
   },
   "file_extension": ".py",
   "mimetype": "text/x-python",
   "name": "python",
   "nbconvert_exporter": "python",
   "pygments_lexer": "ipython3",
   "version": "3.13.3"
  }
 },
 "nbformat": 4,
 "nbformat_minor": 5
}
